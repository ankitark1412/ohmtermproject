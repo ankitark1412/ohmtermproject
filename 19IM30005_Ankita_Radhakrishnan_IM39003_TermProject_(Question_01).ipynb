{
  "cells": [
    {
      "cell_type": "markdown",
      "metadata": {
        "id": "f_IFDZLMuoMA"
      },
      "source": [
        "Importing libraries"
      ]
    },
    {
      "cell_type": "code",
      "execution_count": null,
      "metadata": {
        "id": "-rHaYAc4uq78"
      },
      "outputs": [],
      "source": [
        "import numpy as np\n",
        "import random\n",
        "import matplotlib.pyplot as plt"
      ]
    },
    {
      "cell_type": "markdown",
      "metadata": {
        "id": "BS4jg0B_uuRo"
      },
      "source": [
        "Genetic algorithm approach"
      ]
    },
    {
      "cell_type": "code",
      "execution_count": null,
      "metadata": {
        "id": "NHYKAuLWuPgr"
      },
      "outputs": [],
      "source": [
        "loan_size = [10, 25, 4, 11, 18, 3, 17, 15, 9, 10]\n",
        "interest = [0.021, 0.022, 0.021, 0.027, 0.025, 0.026, 0.023, 0.021, 0.028, 0.022]\n",
        "rating = ['AAA', 'BB', 'A', 'AA', 'BBB', 'AAA', 'BB', 'AAA', 'A', 'A']\n",
        "loss = [0.0002, 0.0058, 0.0001, 0.0003, 0.0024, 0.0002, 0.0058, 0.0002, 0.001, 0.001]\n",
        "\n",
        "D = 60 \n",
        "K = 0.15\n",
        "rD = 0.009#given as 0.9%\n",
        "rT = 0.01\n",
        "gen = 60\n",
        "crossover = 0.8\n",
        "mutation_prob = 0.006\n",
        "size = 6 #it is given that the roulette wheel is spun 6 times, thus 6 genes in each\n",
        "N = 10"
      ]
    },
    {
      "cell_type": "code",
      "execution_count": null,
      "metadata": {
        "id": "4y8oeIteGn2-"
      },
      "outputs": [],
      "source": [
        "def initial_population():\n",
        "  #generating the initial population\n",
        "  individual = []\n",
        "  while(len(individual) < 10):\n",
        "    individual.append(random.randint(0, 1))\n",
        "  return individual"
      ]
    },
    {
      "cell_type": "code",
      "execution_count": null,
      "metadata": {
        "id": "U_thqN990ZUo"
      },
      "outputs": [],
      "source": [
        "def fitness(individual):\n",
        "  #evaluating the fitness of the generated chromosomes\n",
        "  demand_deposit = D*rD #independent of choice of customer\n",
        "  f = 0\n",
        "  loan_revenue = 0\n",
        "  transaction = 0\n",
        "  losses = 0\n",
        "  for j in range(N):\n",
        "    if individual[j] == 1:    \n",
        "      loan_revenue += interest[j]*loan_size[j] - loss[j]\n",
        "      transaction += rT*((1-K)*D - loan_size[j])\n",
        "      losses += loss[j]\n",
        "  f = loan_revenue + transaction - losses - demand_deposit\n",
        "  return f"
      ]
    },
    {
      "cell_type": "code",
      "execution_count": null,
      "metadata": {
        "id": "_Z0jU0Pg9mP_"
      },
      "outputs": [],
      "source": [
        "def check_new_gene(gene):\n",
        "  loansize = 0\n",
        "  for m in range(N):\n",
        "    if gene[m] == 1:\n",
        "      loansize += loan_size[m]\n",
        "  return loansize <= (1 - K)*D"
      ]
    },
    {
      "cell_type": "code",
      "execution_count": null,
      "metadata": {
        "id": "pyYQQANuYRK8"
      },
      "outputs": [],
      "source": [
        "def roulette_wheel(population):\n",
        "  fitness_population = []   \n",
        "  for i in range(len(population)):\n",
        "      fitness_population.append(fitness(population[i]))\n",
        "  fitness_cumulative = [i/sum(fitness_population)for i in fitness_population]\n",
        "  for i in range(1,len(fitness_cumulative)):#cumulative fitness\n",
        "    fitness_cumulative[i] += fitness_cumulative[i-1]\n",
        "\n",
        "  selected = []\n",
        "\n",
        "  for i in range(2):\n",
        "    r = random.random()\n",
        "    k = 0\n",
        "    while r > fitness_cumulative[k]:\n",
        "      k += 1\n",
        "    if k == 0:\n",
        "      k = 1\n",
        "    selected.append(population[k-1])\n",
        "  return selected"
      ]
    },
    {
      "cell_type": "code",
      "source": [
        "from copy import deepcopy\n",
        "def mutation(sol):\n",
        "    temp = deepcopy(sol)#copying the address so that changes get reflected\n",
        "    for i in range(len(temp)):\n",
        "      if random.random() < mutation_prob:\n",
        "        temp[i]= 1 - temp[i]  # flipping the bit randomly\n",
        "    return temp"
      ],
      "metadata": {
        "id": "-ZdOws4D019m"
      },
      "execution_count": null,
      "outputs": []
    },
    {
      "cell_type": "code",
      "source": [
        "def single_point_crossover(p1, p2):   \n",
        "    rr = random.random()\n",
        "    if rr < crossover:\n",
        "      p = random.randint(1, len(p1) - 2)#choosing a point for crossover\n",
        "      c1 = p1[:p] + p2[p:]\n",
        "      c2 = p2[:p] + p1[p:]\n",
        "    else:\n",
        "      c1, c2 = p1, p2\n",
        "    return c1, c2"
      ],
      "metadata": {
        "id": "wUOrpsR3lDkV"
      },
      "execution_count": null,
      "outputs": []
    },
    {
      "cell_type": "code",
      "source": [
        "def best_few(population): #function to find the best few based on the reproduction probability\n",
        "    pop_fitness=[]\n",
        "    best = []\n",
        "    no = int(len(population)*0.194) + 1\n",
        "    for i in range(len(population)):\n",
        "      j = fitness(population[i])\n",
        "      pop_fitness.append([j, population[i]])#making pairs of fitness, individual\n",
        "    pop_fitness = sorted(pop_fitness, reverse=True, key = lambda x : x[0])#sorting in descending order\n",
        "\n",
        "    for i in range(no):\n",
        "      best.append(pop_fitness[i][1])\n",
        "    return best"
      ],
      "metadata": {
        "id": "ch0HiN3yniwc"
      },
      "execution_count": null,
      "outputs": []
    },
    {
      "cell_type": "code",
      "source": [
        "import random\n",
        "from copy import deepcopy \n",
        "import matplotlib.pyplot as plt   \n",
        "\n",
        "population = [] # present population\n",
        "\n",
        "for i in range(60): # generating population\n",
        "    j = initial_population() \n",
        "    while not check_new_gene(j):  # we keep on generating until we get a valid array\n",
        "      j = initial_population()\n",
        "    population.append(j) \n",
        "\n",
        "max_fitness = []\n",
        "\n",
        "for i in range(gen):\n",
        "  pairs = best_few(population) #selecting the best few to remain in the new list as well\n",
        "  max_fitness.append(fitness(pairs[0]))\n",
        "  \n",
        "  while(len(pairs)!= len(population)): \n",
        "    parent1,parent2 = roulette_wheel(population) #selection\n",
        "    child1, child2 = single_point_crossover(parent1,parent2) #crossover\n",
        "\n",
        "    child1 = mutation(child1) #performing mutation on the genes after crossover\n",
        "    child2 = mutation(child2)\n",
        "\n",
        "    while not check_new_gene(child1):#new children that are generated must be valid, and the size of the population must be constant\n",
        "      child1 = initial_population()\n",
        "    while not check_new_gene(child2):\n",
        "      child2 = initial_population()\n",
        "\n",
        "    pairs.append(child1)\n",
        "    pairs.append(child2)\n",
        "\n",
        "  population = pairs\n",
        "\n",
        "Max_fitness_sol = best_few(population)#finding the top few of the population\n",
        "print(\"Maximum fitness Value: \")\n",
        "print(max_fitness[gen - 1])\n",
        "print(\"Corresponding solution:\")\n",
        "print(Max_fitness_sol[0])\n",
        "plt.plot(range(gen),max_fitness, color = 'm')\n",
        "plt.show()"
      ],
      "metadata": {
        "colab": {
          "base_uri": "https://localhost:8080/",
          "height": 338
        },
        "id": "orwer5IYzc1N",
        "outputId": "535b9d43-4601-44a7-aeb8-6600a46cc94b"
      },
      "execution_count": null,
      "outputs": [
        {
          "output_type": "stream",
          "name": "stdout",
          "text": [
            "Maximum fitness Value: \n",
            "3.1854\n",
            "Corresponding solution:\n",
            "[1, 0, 1, 1, 0, 1, 0, 0, 1, 1]\n"
          ]
        },
        {
          "output_type": "display_data",
          "data": {
            "text/plain": [
              "<Figure size 432x288 with 1 Axes>"
            ],
            "image/png": "[encoded data removed]"
          },
          "metadata": {
            "needs_background": "light"
          }
        }
      ]
    },
    {
      "cell_type": "code",
      "source": [
        "loan_sum = 0\n",
        "for i in range(0, 10):\n",
        "  loan_sum += (Max_fitness_sol[0][i])*(loan_size[i])\n",
        "loan_sum"
      ],
      "metadata": {
        "colab": {
          "base_uri": "https://localhost:8080/"
        },
        "id": "xu88oj1SHIg9",
        "outputId": "14ccd0af-75c6-4dda-b4c8-63d2f74c7667"
      },
      "execution_count": null,
      "outputs": [
        {
          "output_type": "execute_result",
          "data": {
            "text/plain": [
              "47"
            ]
          },
          "metadata": {},
          "execution_count": 41
        }
      ]
    },
    {
      "cell_type": "markdown",
      "metadata": {
        "id": "BAa0ZSUBCnqO"
      },
      "source": [
        "Simulated Annealing approach"
      ]
    },
    {
      "cell_type": "code",
      "execution_count": null,
      "metadata": {
        "id": "uuDxbJAkT2fY"
      },
      "outputs": [],
      "source": [
        "loan_size = [10, 25, 4, 11, 18, 3, 17, 15, 9, 10]\n",
        "interest = [0.021, 0.022, 0.021, 0.027, 0.025, 0.026, 0.023, 0.021, 0.028, 0.022]\n",
        "rating = ['AAA', 'BB', 'A', 'AA', 'BBB', 'AAA', 'BB', 'AAA', 'A', 'A']\n",
        "loss = [0.0002, 0.0058, 0.0001, 0.0003, 0.0024, 0.0002, 0.0058, 0.0002, 0.001, 0.001]\n",
        "\n",
        "D = 60 #as the value is in millions\n",
        "K = 0.15\n",
        "rD = 0.009#given as 0.9%\n",
        "rT = 0.01\n",
        "\n",
        "N = len(loan_size)"
      ]
    },
    {
      "cell_type": "code",
      "execution_count": null,
      "metadata": {
        "id": "tsRsyGgqMXZq"
      },
      "outputs": [],
      "source": [
        "def init_sol():\n",
        "  i = [0]*N\n",
        "  loansize = 0 #sum of the loan sizes\n",
        "  for j in range(1, N):\n",
        "    if random.random() > 0.5:\n",
        "      i[j] = 1\n",
        "      loansize += loan_size[j]\n",
        "  if loansize <= (1 - K)*D:\n",
        "    return i\n",
        "  else:\n",
        "    return init_sol() #continue till we get a feasible solution"
      ]
    },
    {
      "cell_type": "code",
      "execution_count": null,
      "metadata": {
        "id": "M-voj0EEh5TQ"
      },
      "outputs": [],
      "source": [
        "def sa_fitness(sol):\n",
        "  #evaluating the fitness of the sa function\n",
        "  demand_deposit = D*rD #independent of choice of customer\n",
        "  fitness = []\n",
        "  loan_revenue = 0\n",
        "  loan_cost = 0\n",
        "  transaction = 0\n",
        "  losses = 0\n",
        "  loansize_sum = 0\n",
        "  for j in range(N):\n",
        "    if sol[j] == 1:\n",
        "      loansize_sum += loan_size[j] #finding the loan size for the selected population\n",
        "  for j in range(N):\n",
        "    if sol[j] == 1:    \n",
        "      loan_revenue += interest[j]*loan_size[j] - loss[j]\n",
        "      transaction += rT*((1-K)*D - loan_size[j])\n",
        "      losses += loss[j]\n",
        "  f = loan_revenue + transaction - losses - demand_deposit\n",
        "  return f"
      ]
    },
    {
      "cell_type": "code",
      "execution_count": null,
      "metadata": {
        "id": "79CIk7ZNik8u"
      },
      "outputs": [],
      "source": [
        "sol = init_sol()\n",
        "fitness = sa_fitness(sol)\n",
        "\n",
        "best_sol = sol\n",
        "best_cost = fitness"
      ]
    },
    {
      "cell_type": "code",
      "execution_count": null,
      "metadata": {
        "id": "eSyrkccosaF-"
      },
      "outputs": [],
      "source": [
        "def check_new_sol(sol):\n",
        "  loansize = 0\n",
        "  for m in range(1, N):\n",
        "    if sol[m] == 1:\n",
        "      loansize += loan_size[m]\n",
        "  if loansize > (1 - K)*D:\n",
        "    return 1\n",
        "  else:\n",
        "    return 0"
      ]
    },
    {
      "cell_type": "code",
      "execution_count": null,
      "metadata": {
        "id": "OfH_BWIGtPis"
      },
      "outputs": [],
      "source": [
        "def neighbourhood_solution(sol):\n",
        "  i = random.randint(0, 9)\n",
        "  if i != 0 and i != 9:\n",
        "    if random.random() <= 0.5:\n",
        "      t = sol[i-1]    \n",
        "      sol[i-1] = sol[i]\n",
        "      sol[i] = t\n",
        "    else:\n",
        "      t = sol[i]\n",
        "      sol[i] = sol[i+1]\n",
        "      sol[i+1] = t\n",
        "  else:\n",
        "    t = sol[0]\n",
        "    sol[0] = sol[9]\n",
        "    sol[9] = t\n",
        "\n",
        "  if check_new_sol(sol) == 0:\n",
        "    return sol\n",
        "  else:\n",
        "    return neighbourhood_solution(sol)"
      ]
    },
    {
      "cell_type": "code",
      "execution_count": null,
      "metadata": {
        "id": "Y3Cgi1xjxDi0"
      },
      "outputs": [],
      "source": [
        "solutions = []\n",
        "cost = []\n",
        "\n",
        "solutions.append(best_sol)\n",
        "cost.append(best_cost)\n",
        "\n",
        "temp0 = 70\n",
        "alpha = 0.8\n",
        "temp = 1000\n",
        "iter = 30\n",
        "\n",
        "while temp > temp0:\n",
        "  for i in range(iter):\n",
        "    neigh = neighbourhood_solution(sol)\n",
        "    fit = sa_fitness(neigh)\n",
        "\n",
        "    if fit > best_cost:\n",
        "      best_cost = fit\n",
        "      best_sol = sol\n",
        "    else:\n",
        "      t = abs(best_cost - fit)/temp\n",
        "      if random.random() <= t:\n",
        "        best_cost = fit\n",
        "        best_sol = neigh\n",
        "    cost.append(best_cost)\n",
        "    solutions.append(best_sol)\n",
        "  temp = alpha*temp"
      ]
    },
    {
      "cell_type": "code",
      "execution_count": null,
      "metadata": {
        "colab": {
          "base_uri": "https://localhost:8080/",
          "height": 335
        },
        "id": "umS92EzP0eV8",
        "outputId": "c6365c7f-7939-4f68-cbd5-fd98697013c4"
      },
      "outputs": [
        {
          "output_type": "stream",
          "name": "stdout",
          "text": [
            "Best solution\n",
            "[1, 0, 0, 0, 0, 1, 1, 0, 1, 0]\n",
            "2.249\n"
          ]
        },
        {
          "output_type": "display_data",
          "data": {
            "text/plain": [
              "<Figure size 432x288 with 1 Axes>"
            ],
            "image/png": "[encoded data removed]"
          },
          "metadata": {
            "needs_background": "light"
          }
        }
      ],
      "source": [
        "print(\"Best solution\")\n",
        "m = max(cost)\n",
        "ind = cost.index(m)\n",
        "sol_ans = solutions[ind]\n",
        "cost_ans = cost[ind]\n",
        "\n",
        "print(sol_ans)\n",
        "print(cost_ans)\n",
        "\n",
        "plt.plot(range(1, len(solutions) + 1), cost, c = 'm')\n",
        "plt.title(\"Variation of fitness with iterations\")\n",
        "plt.show()"
      ]
    },
    {
      "cell_type": "code",
      "source": [
        "loan_sum = 0\n",
        "for i in range(0, 10):\n",
        "  loan_sum += (sol_ans[i])*(loan_size[i])\n",
        "loan_sum"
      ],
      "metadata": {
        "colab": {
          "base_uri": "https://localhost:8080/"
        },
        "id": "ptpPW_bJIK7n",
        "outputId": "e3b62dba-b7a2-4a71-896c-5855f64e1d73"
      },
      "execution_count": null,
      "outputs": [
        {
          "output_type": "execute_result",
          "data": {
            "text/plain": [
              "39"
            ]
          },
          "metadata": {},
          "execution_count": 42
        }
      ]
    },
    {
      "cell_type": "markdown",
      "metadata": {
        "id": "DRhFcR2j2IiQ"
      },
      "source": [
        "Using taboo list"
      ]
    },
    {
      "cell_type": "code",
      "source": [
        "import random\n",
        "from copy import deepcopy \n",
        "import matplotlib.pyplot as plt   \n",
        "\n",
        "population = [] # present population\n",
        "taboo = []\n",
        "\n",
        "for i in range(60): # generating population\n",
        "    j = initial_population() \n",
        "    while not check_new_gene(j):  # we keep on generating until we get a valid array\n",
        "      j = initial_population()\n",
        "    population.append(j) \n",
        "\n",
        "max_fitness = []\n",
        "\n",
        "for i in range(gen):\n",
        "  for i in population:\n",
        "    taboo.append(i)\n",
        "\n",
        "  pairs = best_few(population) #selecting the best few to remain in the new list as well\n",
        "  max_fitness.append(fitness(pairs[0]))\n",
        "  \n",
        "  while(len(pairs)!= len(population)): \n",
        "    parent1,parent2 = roulette_wheel(population) #selection\n",
        "    c1, c2 = single_point_crossover(parent1,parent2) #crossover\n",
        "\n",
        "    c1 = mutation(c1) #mutation\n",
        "    c2 = mutation(c2)\n",
        "\n",
        "    while check_new_gene(c1) == 0 or c1 in taboo == True:\n",
        "        c1 = initial_population()\n",
        "    while check_new_gene(c2) == 0 or c2 in taboo == True:\n",
        "        c2 = initial_population()\n",
        "\n",
        "    pairs.append(c1)\n",
        "    pairs.append(c2)\n",
        "    taboo.append(c1)\n",
        "    taboo.append(c2)\n",
        "\n",
        "  population = pairs\n",
        "\n",
        "Max_fitness_sol = best_few(population)\n",
        "print(\"Maximum fitness Value: \")\n",
        "print(max_fitness[gen - 1])\n",
        "print(\"Corresponding solution:\")\n",
        "print(Max_fitness_sol[0])\n",
        "plt.plot(range(gen),max_fitness, color='k')\n",
        "plt.show()"
      ],
      "metadata": {
        "colab": {
          "base_uri": "https://localhost:8080/",
          "height": 338
        },
        "id": "fdCjkf4Oopsx",
        "outputId": "37b1f9e1-ac9b-4a63-aeb6-fc19f2c093f2"
      },
      "execution_count": null,
      "outputs": [
        {
          "output_type": "stream",
          "name": "stdout",
          "text": [
            "Maximum fitness Value: \n",
            "3.1854\n",
            "Corresponding solution:\n",
            "[1, 0, 1, 1, 0, 1, 0, 0, 1, 1]\n"
          ]
        },
        {
          "output_type": "display_data",
          "data": {
            "text/plain": [
              "<Figure size 432x288 with 1 Axes>"
            ],
            "image/png": "[encoded data removed]"
          },
          "metadata": {
            "needs_background": "light"
          }
        }
      ]
    }
  ],
  "metadata": {
    "colab": {
      "collapsed_sections": [],
      "name": "19IM30005_Ankita_Radhakrishnan_IM39003_TermProject (Question 01).ipynb",
      "provenance": []
    },
    "kernelspec": {
      "display_name": "Python 3",
      "name": "python3"
    },
    "language_info": {
      "name": "python"
    }
  },
  "nbformat": 4,
  "nbformat_minor": 0
}